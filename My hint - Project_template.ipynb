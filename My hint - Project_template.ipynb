{
 "cells": [
  {
   "cell_type": "markdown",
   "id": "59953720",
   "metadata": {},
   "source": [
    "# Название проекта "
   ]
  },
  {
   "cell_type": "markdown",
   "id": "91687d51",
   "metadata": {
    "toc": true
   },
   "source": [
    "<h1>Содержание<span class=\"tocSkip\"></span></h1>\n",
    "<div class=\"toc\"><ul class=\"toc-item\"><li><span><a href=\"#Описание-проекта\" data-toc-modified-id=\"Описание-проекта-1\"><span class=\"toc-item-num\">1&nbsp;&nbsp;</span>Описание проекта</a></span></li><li><span><a href=\"#Открытие-данных\" data-toc-modified-id=\"Открытие-данных-2\"><span class=\"toc-item-num\">2&nbsp;&nbsp;</span>Открытие данных</a></span><ul class=\"toc-item\"><li><span><a href=\"#Вывод\" data-toc-modified-id=\"Вывод-2.1\"><span class=\"toc-item-num\">2.1&nbsp;&nbsp;</span>Вывод</a></span></li></ul></li><li><span><a href=\"#Предобработка-данных\" data-toc-modified-id=\"Предобработка-данных-3\"><span class=\"toc-item-num\">3&nbsp;&nbsp;</span>Предобработка данных</a></span><ul class=\"toc-item\"><li><span><a href=\"#Вывод\" data-toc-modified-id=\"Вывод-3.1\"><span class=\"toc-item-num\">3.1&nbsp;&nbsp;</span>Вывод</a></span></li></ul></li><li><span><a href=\"#Анализ-данных\" data-toc-modified-id=\"Анализ-данных-4\"><span class=\"toc-item-num\">4&nbsp;&nbsp;</span>Анализ данных</a></span><ul class=\"toc-item\"><li><span><a href=\"#Вывод\" data-toc-modified-id=\"Вывод-4.1\"><span class=\"toc-item-num\">4.1&nbsp;&nbsp;</span>Вывод</a></span></li></ul></li><li><span><a href=\"#Выводы\" data-toc-modified-id=\"Выводы-5\"><span class=\"toc-item-num\">5&nbsp;&nbsp;</span>Выводы</a></span></li></ul></div>"
   ]
  },
  {
   "cell_type": "markdown",
   "id": "53e42f11",
   "metadata": {},
   "source": [
    "## Описание проекта"
   ]
  },
  {
   "cell_type": "markdown",
   "id": "dd036735",
   "metadata": {},
   "source": [
    "В данном исследовании проводится анализ ...\n",
    "\n",
    "**Основные задачи**:\n",
    "- первая\n",
    "- вторая\n",
    "- третья\n",
    "\n",
    "**План работы**:\n",
    "- ...\n",
    "- ...\n",
    "- ...\n",
    "\n",
    "**Описание данных**:\n",
    "\n",
    "В исследовании используются данные ..."
   ]
  },
  {
   "cell_type": "markdown",
   "id": "9bd848f5",
   "metadata": {},
   "source": [
    "## Открытие данных"
   ]
  },
  {
   "cell_type": "markdown",
   "id": "26bba0e6",
   "metadata": {},
   "source": [
    "Импортируем необходимые библиотеки:"
   ]
  },
  {
   "cell_type": "code",
   "execution_count": null,
   "id": "640edbaf",
   "metadata": {},
   "outputs": [],
   "source": [
    "import pandas as pd\n",
    "import os\n",
    "\n",
    "from matplotlib import pyplot as plt\n",
    "import seaborn as sns\n",
    "\n",
    "import datetime as dt\n",
    "from datetime import datetime, date, timedelta\n",
    "import textwrap\n",
    "\n",
    "import numpy as np\n",
    "import math as mth\n",
    "from scipy import stats as st"
   ]
  },
  {
   "cell_type": "markdown",
   "id": "a80d0621",
   "metadata": {},
   "source": [
    "Открываем файл:"
   ]
  },
  {
   "cell_type": "code",
   "execution_count": null,
   "id": "25825027",
   "metadata": {},
   "outputs": [],
   "source": [
    "if os.path.exists('/datasets/data.csv'):\n",
    "    df = pd.read_csv('/datasets/data.csv')\n",
    "else:\n",
    "    df = pd.read_csv('/C:/datasets/data.csv')"
   ]
  },
  {
   "cell_type": "markdown",
   "id": "73cdda30",
   "metadata": {},
   "source": [
    "Для ознакомления и проверки данных будем использовать собственную функцию:"
   ]
  },
  {
   "cell_type": "code",
   "execution_count": null,
   "id": "514238ae",
   "metadata": {},
   "outputs": [],
   "source": [
    "def my_check_function (dataset):\n",
    "    '''Функция для ознакомления и проверки даных'''\n",
    "    print('Как выглядят случайные 5 строк:')\n",
    "    display(dataset.sample(5, random_state=42))\n",
    "    print()\n",
    "    print('Общая информация о данных, наименования столбцов, типы данных:')\n",
    "    print(dataset.info())\n",
    "    print()\n",
    "    print('Есть ли пропуски, сколько их:')\n",
    "    print(dataset.isna().sum())\n",
    "    print('Доля пропущенных значений:')\n",
    "    print(dataset.isna().mean())\n",
    "    print()\n",
    "    print('Есть ли явные дубликаты, сколько их:')\n",
    "    print(dataset.duplicated().sum())\n",
    "    print('Доля явных дубликатов:')\n",
    "    print(dataset.duplicated().mean())\n",
    "    print()\n",
    "    print('Подробное описание данных:')\n",
    "    display(dataset.describe())"
   ]
  },
  {
   "cell_type": "code",
   "execution_count": null,
   "id": "e29d1d5d",
   "metadata": {},
   "outputs": [],
   "source": []
  },
  {
   "cell_type": "code",
   "execution_count": null,
   "id": "085b3410",
   "metadata": {},
   "outputs": [],
   "source": []
  },
  {
   "cell_type": "markdown",
   "id": "ed3e3286",
   "metadata": {},
   "source": [
    "### Вывод"
   ]
  },
  {
   "cell_type": "markdown",
   "id": "a620a435",
   "metadata": {},
   "source": []
  },
  {
   "cell_type": "markdown",
   "id": "2b16f911",
   "metadata": {},
   "source": [
    "## Предобработка данных"
   ]
  },
  {
   "cell_type": "code",
   "execution_count": null,
   "id": "d84a6ebb",
   "metadata": {},
   "outputs": [],
   "source": []
  },
  {
   "cell_type": "code",
   "execution_count": null,
   "id": "ee11b2da",
   "metadata": {},
   "outputs": [],
   "source": []
  },
  {
   "cell_type": "code",
   "execution_count": null,
   "id": "8eea7ea5",
   "metadata": {},
   "outputs": [],
   "source": []
  },
  {
   "cell_type": "code",
   "execution_count": null,
   "id": "d61c1e64",
   "metadata": {},
   "outputs": [],
   "source": []
  },
  {
   "cell_type": "markdown",
   "id": "03519299",
   "metadata": {},
   "source": [
    "### Вывод"
   ]
  },
  {
   "cell_type": "markdown",
   "id": "e1f9ca3d",
   "metadata": {},
   "source": []
  },
  {
   "cell_type": "markdown",
   "id": "686d7dc2",
   "metadata": {},
   "source": [
    "## Анализ данных"
   ]
  },
  {
   "cell_type": "code",
   "execution_count": null,
   "id": "85e4564e",
   "metadata": {},
   "outputs": [],
   "source": []
  },
  {
   "cell_type": "code",
   "execution_count": null,
   "id": "e33c98a7",
   "metadata": {},
   "outputs": [],
   "source": []
  },
  {
   "cell_type": "code",
   "execution_count": null,
   "id": "99ba9de9",
   "metadata": {},
   "outputs": [],
   "source": []
  },
  {
   "cell_type": "code",
   "execution_count": null,
   "id": "eb031dc7",
   "metadata": {},
   "outputs": [],
   "source": []
  },
  {
   "cell_type": "markdown",
   "id": "a1fd7883",
   "metadata": {},
   "source": [
    "### Вывод"
   ]
  },
  {
   "cell_type": "markdown",
   "id": "d666dfd3",
   "metadata": {},
   "source": []
  },
  {
   "cell_type": "markdown",
   "id": "dcb711e3",
   "metadata": {},
   "source": [
    "## Выводы"
   ]
  },
  {
   "cell_type": "markdown",
   "id": "d3806e43",
   "metadata": {},
   "source": [
    "Выводы исследования \n",
    "...\n",
    "\n",
    "\n",
    "\n",
    "\n",
    "\n",
    "_____________________________________________________________________________________________________________________________\n",
    "Исследование выполнила: аналитик данных Малахова Наталья\n",
    "\n",
    "Мой телеграм-канал: [Дневник аналитика](https://t.me/diary_musician_analyst \"Дневник аналитика\")\n",
    "\n",
    "Портфолио: [GitHub](https://github.com/Malakhova-Natalya \"GitHub\")\n",
    "\n",
    "Спасибо за внимание!"
   ]
  }
 ],
 "metadata": {
  "kernelspec": {
   "display_name": "Python 3 (ipykernel)",
   "language": "python",
   "name": "python3"
  },
  "language_info": {
   "codemirror_mode": {
    "name": "ipython",
    "version": 3
   },
   "file_extension": ".py",
   "mimetype": "text/x-python",
   "name": "python",
   "nbconvert_exporter": "python",
   "pygments_lexer": "ipython3",
   "version": "3.9.7"
  },
  "toc": {
   "base_numbering": 1,
   "nav_menu": {},
   "number_sections": true,
   "sideBar": true,
   "skip_h1_title": true,
   "title_cell": "Содержание",
   "title_sidebar": "Содержание",
   "toc_cell": true,
   "toc_position": {},
   "toc_section_display": true,
   "toc_window_display": true
  }
 },
 "nbformat": 4,
 "nbformat_minor": 5
}
